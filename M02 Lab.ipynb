{
 "cells": [
  {
   "cell_type": "code",
   "execution_count": null,
   "id": "f94138c6",
   "metadata": {},
   "outputs": [],
   "source": [
    "#Reece Harkness\n",
    "#M02 Lab.ipynb\n",
    "#Shows user if students made Dean's list or Honor roll\n",
    "\n",
    "while True:\n",
    "    last_name = input(\"Enter the student's last name (type 'ZZZ' to quit): \")\n",
    "    if last_name == 'ZZZ':\n",
    "        break\n",
    "    first_name = input(\"Enter the student's first name: \")\n",
    "    gpa = float(input(\"Enter the student's GPA: \"))\n",
    "    if gpa >= 3.5:\n",
    "        print(f\"{first_name} {last_name} made the Dean's List!\")\n",
    "    elif gpa >= 3.25:\n",
    "        print(f\"{first_name} {last_name} made the Honor Roll!\")\n",
    "    else:\n",
    "        print(f\"Sorry, {first_name} {last_name} did not make either list.\")"
   ]
  },
  {
   "cell_type": "code",
   "execution_count": null,
   "id": "32b40450",
   "metadata": {},
   "outputs": [],
   "source": []
  }
 ],
 "metadata": {
  "kernelspec": {
   "display_name": "Python 3 (ipykernel)",
   "language": "python",
   "name": "python3"
  },
  "language_info": {
   "codemirror_mode": {
    "name": "ipython",
    "version": 3
   },
   "file_extension": ".py",
   "mimetype": "text/x-python",
   "name": "python",
   "nbconvert_exporter": "python",
   "pygments_lexer": "ipython3",
   "version": "3.10.9"
  }
 },
 "nbformat": 4,
 "nbformat_minor": 5
}
